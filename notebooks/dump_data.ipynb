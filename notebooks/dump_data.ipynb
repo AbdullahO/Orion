{
 "cells": [
  {
   "cell_type": "code",
   "execution_count": 1,
   "metadata": {},
   "outputs": [
    {
     "name": "stderr",
     "output_type": "stream",
     "text": [
      "INFO:orion.data:Downloading Orion Demo Data to folder orion-data\n",
      "Using TensorFlow backend.\n",
      "INFO:orion.runner:Datarun 5ede64c3aed6583d4712dce5 started\n",
      "INFO:orion.runner:Signalrun 5ede64c3aed6583d4712dce6 started\n",
      "INFO:orion.runner:Running pipeline tadgan_1epoch on signal S-1\n"
     ]
    },
    {
     "name": "stdout",
     "output_type": "stream",
     "text": [
      "Epoch: 1/1, [Dx loss: [-2.3921454  -4.2251735   0.85902524  0.09740038]] [Dz loss: [-1.3007834  -2.0567024  -0.51269287  0.1268612 ]] [G loss: [ 2.7517493  -0.8482112   1.1360537   0.24639072]]\n"
     ]
    },
    {
     "name": "stderr",
     "output_type": "stream",
     "text": [
      "INFO:orion.runner:Processing pipeline tadgan_1epoch predictions on signal S-1\n"
     ]
    }
   ],
   "source": [
    "# Logging setup\n",
    "import logging\n",
    "\n",
    "logging.basicConfig(level=logging.INFO)\n",
    "logging.getLogger().setLevel(level=logging.ERROR)\n",
    "logging.getLogger('orion').setLevel(level=logging.INFO)\n",
    "\n",
    "import warnings\n",
    "warnings.simplefilter(\"ignore\")\n",
    "\n",
    "\n",
    "from orion.db import OrionDBExplorer\n",
    "\n",
    "orex = OrionDBExplorer(user='dyu', database='orion')\n",
    "\n",
    "orex.drop_database()\n",
    "\n",
    "\n",
    "from orion.data import download_demo\n",
    "\n",
    "download_demo()\n",
    "\n",
    "dataset = orex.add_dataset(\n",
    "    name='Demo Dataset',\n",
    "    entity='Orion',\n",
    ")\n",
    "\n",
    "orex.add_signal(\n",
    "    name='S-1',\n",
    "    dataset=dataset,\n",
    "    data_location='orion-data/S-1.csv'\n",
    ")\n",
    "\n",
    "\n",
    "template = orex.add_template(\n",
    "    name='tadgan_dump',\n",
    "    template='tadgan_dump',\n",
    ")\n",
    "\n",
    "\n",
    "new_hyperparameters = {\n",
    "   'orion.primitives.tadgan.TadGAN#1': {\n",
    "       'epochs': 1,\n",
    "       'verbose': True\n",
    "   }\n",
    "}\n",
    "pipeline = orex.add_pipeline(\n",
    "   name='tadgan_1epoch',\n",
    "   template=template,\n",
    "   hyperparameters=new_hyperparameters,\n",
    ")\n",
    "\n",
    "\n",
    "experiment = orex.add_experiment(\n",
    "    name='My Experiment',\n",
    "    project='My Project',\n",
    "    template=template,\n",
    "    dataset=dataset,\n",
    ")\n",
    "\n",
    "from orion.runner import start_datarun\n",
    "\n",
    "start_datarun(orex, experiment, pipeline)\n",
    "\n",
    "\n",
    "\n",
    "\n",
    "# from orion.analysis import analyze\n",
    "# from orion.data import load_signal, load_anomalies\n",
    "# # read the data\n",
    "# train = load_signal('S-1-train')\n",
    "# test = load_signal('S-1-test')\n",
    "# # read anomalies\n",
    "# known_anomalies = load_anomalies('S-1')\n",
    "# # specify the pipleline\n",
    "# pipeline_path = '../orion/pipelines/tadgan.json'\n",
    "# anomalies = analyze(pipeline_path, train, test)\n",
    "# anomalies"
   ]
  }
 ],
 "metadata": {
  "kernelspec": {
   "display_name": "Python 3",
   "language": "python",
   "name": "python3"
  },
  "language_info": {
   "codemirror_mode": {
    "name": "ipython",
    "version": 3
   },
   "file_extension": ".py",
   "mimetype": "text/x-python",
   "name": "python",
   "nbconvert_exporter": "python",
   "pygments_lexer": "ipython3",
   "version": "3.6.10"
  }
 },
 "nbformat": 4,
 "nbformat_minor": 4
}
